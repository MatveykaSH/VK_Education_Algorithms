{
 "cells": [
  {
   "cell_type": "markdown",
   "id": "c2ba8d15",
   "metadata": {},
   "source": [
    "### Задания домашней работы"
   ]
  },
  {
   "cell_type": "markdown",
   "id": "abc59712",
   "metadata": {},
   "source": [
    "- Проверить, если ли в списке циклы\n",
    "- Развернуть односвязный список\n",
    "- Поиск среднего элемента списка(среднего по расположению)\n",
    "- Удаление из односвязного списка\n",
    "- Проверка на списках - получена ли одна строка из второй путём добавления букв в случайные места\n",
    "- Проверка на палиндром\n",
    "- Слияние двух отсортированных списков, чтобы получился также отсортированный"
   ]
  },
  {
   "cell_type": "markdown",
   "id": "8ea57996",
   "metadata": {},
   "source": [
    "## Связный список"
   ]
  },
  {
   "cell_type": "code",
   "execution_count": 2,
   "id": "c3ccf17f",
   "metadata": {},
   "outputs": [],
   "source": [
    "## Создадим структуру односвязного списка\n",
    "\n",
    "class Node():\n",
    "    def __init__(self, data):\n",
    "        self.data = data\n",
    "        self.next = None"
   ]
  },
  {
   "cell_type": "code",
   "execution_count": 273,
   "id": "a3005bac",
   "metadata": {},
   "outputs": [],
   "source": [
    "#Создадим сам список, методы добавки элементов и метод печати\n",
    "class List():\n",
    "    def __init__(self):\n",
    "        self.head = None\n",
    "        \n",
    "    def append(self,data): # Добавляем элементы\n",
    "        new_node = Node(data)\n",
    "        if not self.head:\n",
    "            self.head = new_node\n",
    "            return\n",
    "        else:\n",
    "            last_node = self.head\n",
    "            while last_node.next:\n",
    "                last_node = last_node.next\n",
    "            last_node.next = new_node\n",
    "            \n",
    "    def __str__(self): # Печать элементов\n",
    "        if self.head == None:\n",
    "            return f\"List is empthy\"\n",
    "        else:\n",
    "            node = self.head\n",
    "            while node != None:\n",
    "                print(node.data, end = \" \")\n",
    "                node = node.next\n",
    "            return \" \"\n",
    "    \n",
    "    def cycle(self): # Проверка есть ли циклы в нашем списке \n",
    "        slow = self.head\n",
    "        faster = self.head\n",
    "        flag = False\n",
    "        while faster != None:\n",
    "            slow = slow.next\n",
    "            faster = faster.next.next\n",
    "            if slow == faster:\n",
    "                print(\"We have cycle\")\n",
    "                flag = True\n",
    "                break\n",
    "                \n",
    "        if flag == False:\n",
    "            print('We haven`t cycle')\n",
    "            \n",
    "            \n",
    "    def make_cycle(self): # Делаем цикл специально, чтобы проверить наш код\n",
    "        \n",
    "        if self.head == None:\n",
    "            return []\n",
    "        temp = self.head\n",
    "        node = self.head\n",
    "        while node.next != None:\n",
    "            node = node.next\n",
    "        node.next = temp\n",
    "        print(\"We make cycle!!!\")\n",
    "        \n",
    "    def reverse(self):## Разворот списка\n",
    "        prev = None\n",
    "        current = self.head\n",
    "        \n",
    "        while current:\n",
    "            next_temp = current.next\n",
    "            current.next = prev\n",
    "            \n",
    "            prev = current\n",
    "            current = next_temp\n",
    "            \n",
    "        self.head = prev\n",
    "        \n",
    "    def middle_note(self):  ## Реализация поиска серединного через быстрый и медленный указатели\n",
    "        slow = fast = self.head\n",
    "        \n",
    "        while fast != None and fast.next != None:\n",
    "            slow = slow.next\n",
    "            fast = fast.next.next\n",
    "        \n",
    "        return f\"{slow.data} - middle of list\"\n",
    "    \n",
    "    def delete(self,key): ## Удаление элемента по значению\n",
    "        if self.head == None:\n",
    "            print(\"List is empthy\")\n",
    "        else:\n",
    "            node = self.head\n",
    "            if node.data == key:\n",
    "                if node.next == None:\n",
    "                    self.head = None\n",
    "                else:\n",
    "                    self.head = self.head.next\n",
    "            else:\n",
    "                pred_last = None\n",
    "                \n",
    "                \n",
    "                while node.next != None:\n",
    "                    prev = node\n",
    "                    current = node.next\n",
    "                    after = node.next.next\n",
    "                    if current.data == key:\n",
    "                        prev.next = after\n",
    "                        current = None\n",
    "                        break\n",
    "                    else:\n",
    "                        node = node.next\n",
    "                        \n"
   ]
  },
  {
   "cell_type": "code",
   "execution_count": 274,
   "id": "0c844a93",
   "metadata": {},
   "outputs": [
    {
     "name": "stdout",
     "output_type": "stream",
     "text": [
      "10 20 30  \n"
     ]
    }
   ],
   "source": [
    "lst = List()\n",
    "lst.append(10)\n",
    "lst.append(20)\n",
    "lst.append(30) # Добавили элементы\n",
    "print(lst)\n",
    "\n",
    "\n"
   ]
  },
  {
   "cell_type": "code",
   "execution_count": 275,
   "id": "69b9e5b5",
   "metadata": {},
   "outputs": [
    {
     "name": "stdout",
     "output_type": "stream",
     "text": [
      "30 20 10  \n"
     ]
    }
   ],
   "source": [
    "lst.reverse() # Развернули списк\n",
    "print(lst) # Напечатали развернутый\n"
   ]
  },
  {
   "cell_type": "code",
   "execution_count": 276,
   "id": "10853d9a",
   "metadata": {},
   "outputs": [
    {
     "name": "stdout",
     "output_type": "stream",
     "text": [
      "30 20 10  \n",
      "20 - middle of list\n",
      "30 20 10 40  \n"
     ]
    },
    {
     "data": {
      "text/plain": [
       "'10 - middle of list'"
      ]
     },
     "execution_count": 276,
     "metadata": {},
     "output_type": "execute_result"
    }
   ],
   "source": [
    "print(lst)\n",
    "print(lst.middle_note()) # Середина при нечётной длине списка\n",
    "lst.append(40)\n",
    "print(lst)\n",
    "lst.middle_note() # В чётном размере"
   ]
  },
  {
   "cell_type": "code",
   "execution_count": 277,
   "id": "fdd1c240",
   "metadata": {
    "scrolled": true
   },
   "outputs": [
    {
     "name": "stdout",
     "output_type": "stream",
     "text": [
      "30 20 10 40 50  \n",
      "20 10 40 50  \n",
      "20 10 40  \n"
     ]
    }
   ],
   "source": [
    "lst.append(50)\n",
    "print(lst)\n",
    "lst.delete(30) # Удалили из начала\n",
    "print(lst)\n",
    "lst.delete(50) # Удалили с конца\n",
    "print(lst)\n",
    "lst.delete(10) # Удалили из середины\n",
    "\n",
    "\n"
   ]
  },
  {
   "cell_type": "code",
   "execution_count": 278,
   "id": "035e2b61",
   "metadata": {},
   "outputs": [
    {
     "name": "stdout",
     "output_type": "stream",
     "text": [
      "20 40  \n",
      "We haven`t cycle\n",
      "20 40 10 20 30 40 50  \n",
      "We make cycle!!!\n",
      "We have cycle\n"
     ]
    }
   ],
   "source": [
    "print(lst)\n",
    "lst.cycle()\n",
    "lst.append(10)\n",
    "lst.append(20)\n",
    "lst.append(30)\n",
    "lst.append(40)\n",
    "lst.append(50)\n",
    "print(lst)\n",
    "lst.make_cycle() # Делаем цикл\n",
    "lst.cycle() # Проверяем есть ли цикл или нет \n",
    "#Если напечать print(lst), то список будет печататся без остановки так как присутствует цикл\n",
    "\n",
    "\n",
    "\n"
   ]
  },
  {
   "cell_type": "markdown",
   "id": "d446ea8d",
   "metadata": {},
   "source": [
    "## Очередь "
   ]
  },
  {
   "cell_type": "markdown",
   "id": "958dc583",
   "metadata": {},
   "source": [
    "Проверка на списках - получена ли одна строка из второй путём добавления букв в случайные места"
   ]
  },
  {
   "cell_type": "code",
   "execution_count": 230,
   "id": "a9d15403",
   "metadata": {},
   "outputs": [],
   "source": [
    "from collections import deque\n",
    "def main(a,b):\n",
    "    queue = deque()\n",
    "    for el in a:\n",
    "        queue.append(el)\n",
    "    \n",
    "    for el in b:\n",
    "        if el == queue[0]:\n",
    "            queue.popleft()    \n",
    "    \n",
    "    if  list(queue) == []:\n",
    "        return True\n",
    "    else:\n",
    "        return False\n",
    "        \n",
    "    \n",
    "    "
   ]
  },
  {
   "cell_type": "code",
   "execution_count": 232,
   "id": "7a21aac0",
   "metadata": {},
   "outputs": [
    {
     "data": {
      "text/plain": [
       "True"
      ]
     },
     "execution_count": 232,
     "metadata": {},
     "output_type": "execute_result"
    }
   ],
   "source": [
    "a = \"abc\"\n",
    "b = \"lamkbjgc\"\n",
    "main(a,b)"
   ]
  },
  {
   "cell_type": "markdown",
   "id": "62189359",
   "metadata": {},
   "source": [
    "Проверка на палиндром"
   ]
  },
  {
   "cell_type": "code",
   "execution_count": 218,
   "id": "41d2bbeb",
   "metadata": {},
   "outputs": [],
   "source": [
    "from collections import deque\n",
    "def main(s):\n",
    "    stack = deque(s.replace(\" \",\"\"))\n",
    "    i = 0\n",
    "    while i < len(s) // 2:\n",
    "        if stack.pop() != stack.popleft():\n",
    "            return False\n",
    "        i += 1\n",
    "    return True\n",
    "    "
   ]
  },
  {
   "cell_type": "code",
   "execution_count": 225,
   "id": "97787be9",
   "metadata": {},
   "outputs": [
    {
     "name": "stdout",
     "output_type": "stream",
     "text": [
      "True\n",
      "True\n"
     ]
    }
   ],
   "source": [
    "s = \"abcdcba\"\n",
    "print(main(s))\n",
    "s = \"abccba\"\n",
    "print(main(s))\n"
   ]
  },
  {
   "cell_type": "markdown",
   "id": "074c6f0f",
   "metadata": {},
   "source": [
    "Слияние двух отсортированных списков, чтобы получился также отсортированный, без использования дополнительной памяти"
   ]
  },
  {
   "cell_type": "markdown",
   "id": "548db719",
   "metadata": {},
   "source": [
    " Чтобы решить данную задачу нужно использовать связный список"
   ]
  },
  {
   "cell_type": "code",
   "execution_count": 256,
   "id": "ea426890",
   "metadata": {},
   "outputs": [],
   "source": [
    "class Node():\n",
    "    def __init__(self,data):\n",
    "        self.data = data\n",
    "        self.next = None\n",
    "    \n",
    "    \n",
    "class List():\n",
    "    def __init__(self):\n",
    "        self.head = None\n",
    "        \n",
    "    def append(self,data): # Добавляем элементы\n",
    "        new_node = Node(data)\n",
    "        if not self.head:\n",
    "            self.head = new_node\n",
    "            return\n",
    "        else:\n",
    "            last_node = self.head\n",
    "            while last_node.next:\n",
    "                last_node = last_node.next\n",
    "            last_node.next = new_node\n",
    "            \n",
    "    def __str__(self): # Печатаем элементы\n",
    "        if self.head == None:\n",
    "            return f\"List is empthy\"\n",
    "        else:\n",
    "            node = self.head\n",
    "            while node != None:\n",
    "                print(node.data, end = \" \")\n",
    "                node = node.next\n",
    "            return \" \"\n",
    "        \n",
    "        \n",
    "    def merge_two_list_inplace(self, other):\n",
    "        dummy = Node(0)\n",
    "        current = dummy\n",
    "\n",
    "        l1 = self.head\n",
    "        l2 = other.head\n",
    "\n",
    "        while l1 and l2:\n",
    "            if l1.data <= l2.data:\n",
    "                current.next = l1\n",
    "                l1 = l1.next\n",
    "            else:\n",
    "                current.next = l2\n",
    "                l2 = l2.next\n",
    "            current = current.next\n",
    "\n",
    "        current.next = l1 if l1 else l2\n",
    "        self.head = dummy.next\n",
    "        # Очищаем второй список\n",
    "        other.head = None\n"
   ]
  },
  {
   "cell_type": "code",
   "execution_count": 257,
   "id": "125bc80a",
   "metadata": {},
   "outputs": [
    {
     "name": "stdout",
     "output_type": "stream",
     "text": [
      "10 20 35  \n",
      "15 25 35  \n",
      "10 15 20 25 35 35  \n"
     ]
    }
   ],
   "source": [
    "lst = List()\n",
    "lst.append(10)\n",
    "lst.append(20)\n",
    "lst.append(35)\n",
    "print(lst)\n",
    "pst = List()\n",
    "pst.append(15)\n",
    "pst.append(25)\n",
    "pst.append(35)\n",
    "print(pst)\n",
    "lst.merge_two_list_inplace(pst)\n",
    "print(lst)"
   ]
  },
  {
   "cell_type": "markdown",
   "id": "1c37c449",
   "metadata": {},
   "source": []
  }
 ],
 "metadata": {
  "kernelspec": {
   "display_name": "Python 3 (ipykernel)",
   "language": "python",
   "name": "python3"
  },
  "language_info": {
   "codemirror_mode": {
    "name": "ipython",
    "version": 3
   },
   "file_extension": ".py",
   "mimetype": "text/x-python",
   "name": "python",
   "nbconvert_exporter": "python",
   "pygments_lexer": "ipython3",
   "version": "3.11.5"
  }
 },
 "nbformat": 4,
 "nbformat_minor": 5
}
