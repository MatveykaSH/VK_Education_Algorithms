{
 "cells": [
  {
   "cell_type": "code",
   "execution_count": 222,
   "id": "d49d57a3",
   "metadata": {},
   "outputs": [],
   "source": [
    "# Список задач \n",
    "\n",
    "# Two sum\n",
    "# Развернуть массив\n",
    "# Развернуть часть массива\n",
    "# Слияние 2х сортированных массива\n",
    "# Сортировка массива нулей и единиц\n",
    "# Задача флага Нидерландов\n",
    "# Передвинуть чётные числа вперёд\n",
    "# Передвинуть нули в конец"
   ]
  },
  {
   "cell_type": "code",
   "execution_count": 228,
   "id": "41746ab9",
   "metadata": {},
   "outputs": [],
   "source": [
    "## Two sum\n",
    "def main(nums, target):\n",
    "    \n",
    "    left = 0\n",
    "    right = len(nums) - 1\n",
    "    summa = 0\n",
    "    \n",
    "    \n",
    "    while left < right:\n",
    "        summa = nums[left] + nums[right]\n",
    "        if summa > target:\n",
    "            right -=1\n",
    "        elif summa < target:\n",
    "            left += 1\n",
    "        elif summa == target:\n",
    "            return [left + 1, right + 1]\n",
    "    \n",
    "    return  []"
   ]
  },
  {
   "cell_type": "code",
   "execution_count": 230,
   "id": "0fe5f0e7",
   "metadata": {},
   "outputs": [
    {
     "data": {
      "text/plain": [
       "[1, 6]"
      ]
     },
     "execution_count": 230,
     "metadata": {},
     "output_type": "execute_result"
    }
   ],
   "source": [
    "nums = [0,2,3,4,5,6,7]\n",
    "target = 6\n",
    "main(nums,target)"
   ]
  },
  {
   "cell_type": "code",
   "execution_count": 25,
   "id": "284a42e4",
   "metadata": {},
   "outputs": [],
   "source": [
    "## Развернуть массив\n",
    "def main(nums):\n",
    "    left = 0\n",
    "    right = len(nums) - 1\n",
    "    while left < right:\n",
    "        nums[left], nums[right] = nums[right],nums[left]\n",
    "        left += 1\n",
    "        right -= 1\n",
    "    return nums"
   ]
  },
  {
   "cell_type": "code",
   "execution_count": 30,
   "id": "accac370",
   "metadata": {},
   "outputs": [
    {
     "data": {
      "text/plain": [
       "[7, 6, 5, 4, 3, 2, 1]"
      ]
     },
     "execution_count": 30,
     "metadata": {},
     "output_type": "execute_result"
    }
   ],
   "source": [
    "main([1,2,3,4,5,6,7])"
   ]
  },
  {
   "cell_type": "code",
   "execution_count": 31,
   "id": "06e5d528",
   "metadata": {},
   "outputs": [],
   "source": [
    "## Развернуть массив\n",
    "def main(nums):\n",
    "    return nums[::-1]\n",
    "    "
   ]
  },
  {
   "cell_type": "code",
   "execution_count": 32,
   "id": "6234f8d7",
   "metadata": {},
   "outputs": [
    {
     "data": {
      "text/plain": [
       "[7, 6, 5, 4, 3, 2, 1]"
      ]
     },
     "execution_count": 32,
     "metadata": {},
     "output_type": "execute_result"
    }
   ],
   "source": [
    "main([1,2,3,4,5,6,7])"
   ]
  },
  {
   "cell_type": "code",
   "execution_count": 33,
   "id": "384f4667",
   "metadata": {},
   "outputs": [],
   "source": [
    "## Развернуть часть массив\n",
    "\n",
    "def main(nums,k):\n",
    "    if k > len(nums) - 1:\n",
    "        return nums[::-1]\n",
    "    left = 0\n",
    "    right = k - 1\n",
    "    while left < right:\n",
    "        nums[left], nums[right] = nums[right],nums[left]\n",
    "        left += 1\n",
    "        right -= 1\n",
    "    return nums\n"
   ]
  },
  {
   "cell_type": "code",
   "execution_count": 34,
   "id": "989e61e1",
   "metadata": {},
   "outputs": [
    {
     "data": {
      "text/plain": [
       "[3, 2, 1, 4, 5, 6, 7]"
      ]
     },
     "execution_count": 34,
     "metadata": {},
     "output_type": "execute_result"
    }
   ],
   "source": [
    "main([1,2,3,4,5,6,7],3)"
   ]
  },
  {
   "cell_type": "code",
   "execution_count": 95,
   "id": "24d47098",
   "metadata": {
    "scrolled": true
   },
   "outputs": [],
   "source": [
    "def main(k,n):\n",
    "    return n - (k * (n // k))"
   ]
  },
  {
   "cell_type": "code",
   "execution_count": 96,
   "id": "a49d5455",
   "metadata": {},
   "outputs": [
    {
     "data": {
      "text/plain": [
       "1"
      ]
     },
     "execution_count": 96,
     "metadata": {},
     "output_type": "execute_result"
    }
   ],
   "source": [
    "main(7,15)"
   ]
  },
  {
   "cell_type": "code",
   "execution_count": 115,
   "id": "53dfb465",
   "metadata": {},
   "outputs": [],
   "source": [
    "## Развернуть часть массив\n",
    "def main(nums,k):\n",
    "    if k > len(nums) - 1:\n",
    "        print(k,len(nums))\n",
    "    return nums[len(nums) - k: len(nums)] + nums[0:len(nums) - k]"
   ]
  },
  {
   "cell_type": "code",
   "execution_count": 114,
   "id": "57c99201",
   "metadata": {},
   "outputs": [
    {
     "name": "stdout",
     "output_type": "stream",
     "text": [
      "0 7\n"
     ]
    },
    {
     "data": {
      "text/plain": [
       "[1, 2, 3, 4, 5, 6, 7]"
      ]
     },
     "execution_count": 114,
     "metadata": {},
     "output_type": "execute_result"
    }
   ],
   "source": [
    "main([1,2,3,4,5,6,7],21)"
   ]
  },
  {
   "cell_type": "code",
   "execution_count": 118,
   "id": "b3c9b3fc",
   "metadata": {},
   "outputs": [],
   "source": [
    "# Слияние 2х сортированных массива\n",
    "def  main(a,b):\n",
    "    c = []\n",
    "    i = 0\n",
    "    j = 0\n",
    "    while i < len(a) and j < len(b):\n",
    "        if a[i] <= b[j]:\n",
    "            c.append(a[i])\n",
    "            i += 1\n",
    "        else:\n",
    "            c.append(b[j])\n",
    "            j += 1\n",
    "    \n",
    "    c += a[i:]\n",
    "    c += b[j:]\n",
    "    return c\n",
    "    \n",
    "    \n"
   ]
  },
  {
   "cell_type": "code",
   "execution_count": 126,
   "id": "9b487b86",
   "metadata": {},
   "outputs": [
    {
     "data": {
      "text/plain": [
       "[0, 1, 2, 2, 3, 10]"
      ]
     },
     "execution_count": 126,
     "metadata": {},
     "output_type": "execute_result"
    }
   ],
   "source": [
    "a = [1,2,3]\n",
    "b = [0,2,10]\n",
    "main(a,b)"
   ]
  },
  {
   "cell_type": "code",
   "execution_count": 141,
   "id": "ce634583",
   "metadata": {},
   "outputs": [],
   "source": [
    "# Сортировка массива нулей и единиц\n",
    "def main(nums):\n",
    "    left, right = 0, len(nums) - 1\n",
    "    print(left)\n",
    "    while left < right:\n",
    "        if nums[left] == 0 and nums[right] == 0:\n",
    "            left += 1\n",
    "        elif nums[right] == 1 and nums[left] == 1:\n",
    "            right -= 1\n",
    "        elif nums[right] == 1 and nums[left] == 0:\n",
    "            right -= 1\n",
    "            left += 1\n",
    "        elif nums[right] == 0 and nums[left] == 1:\n",
    "            nums[right] = 1\n",
    "            nums[left] = 0\n",
    "    return nums\n"
   ]
  },
  {
   "cell_type": "code",
   "execution_count": 146,
   "id": "3a07fa24",
   "metadata": {},
   "outputs": [
    {
     "name": "stdout",
     "output_type": "stream",
     "text": [
      "0\n"
     ]
    },
    {
     "data": {
      "text/plain": [
       "[0, 0, 0, 0, 0, 1, 1]"
      ]
     },
     "execution_count": 146,
     "metadata": {},
     "output_type": "execute_result"
    }
   ],
   "source": [
    "a = [0,0,1,0,0,0,1]\n",
    "main(a)"
   ]
  },
  {
   "cell_type": "code",
   "execution_count": 148,
   "id": "4ba64068",
   "metadata": {},
   "outputs": [],
   "source": [
    "#Задача флага Нидерландов\n",
    "def main(nums):\n",
    "    #0\n",
    "    #1\n",
    "    #2\n",
    "    low = 0\n",
    "    mid = 0\n",
    "    high = len(nums) - 1\n",
    "    \n",
    "    while mid <= high:\n",
    "        \n",
    "        if nums[mid] == 0:\n",
    "            nums[mid], nums[low] = nums[low], nums[mid]\n",
    "            mid += 1\n",
    "            low += 1\n",
    "            \n",
    "        elif nums[mid] == 1:\n",
    "            mid += 1\n",
    "        \n",
    "        elif nums[mid] == 2:\n",
    "            nums[high], nums[mid] = nums[mid], nums[high]\n",
    "            high -= 1\n",
    "        \n",
    "    return nums\n",
    "\n"
   ]
  },
  {
   "cell_type": "code",
   "execution_count": 149,
   "id": "9d9274cd",
   "metadata": {},
   "outputs": [
    {
     "data": {
      "text/plain": [
       "[0, 0, 0, 0, 0, 0, 1, 1, 1, 1, 1, 2, 2, 2, 2]"
      ]
     },
     "execution_count": 149,
     "metadata": {},
     "output_type": "execute_result"
    }
   ],
   "source": [
    "nums = [0,1,0,2,2,0,1,1,2,0,0,1,0,2,1]\n",
    "main(nums)"
   ]
  },
  {
   "cell_type": "code",
   "execution_count": 151,
   "id": "f36fd4be",
   "metadata": {},
   "outputs": [
    {
     "data": {
      "text/plain": [
       "0"
      ]
     },
     "execution_count": 151,
     "metadata": {},
     "output_type": "execute_result"
    }
   ],
   "source": [
    "4 % 2 "
   ]
  },
  {
   "cell_type": "code",
   "execution_count": 178,
   "id": "f7443183",
   "metadata": {},
   "outputs": [],
   "source": [
    "##Передвинуть чётные числа вперёд\n",
    "\n",
    "def main(nums):\n",
    "    \n",
    "    left = 0\n",
    "    right = 0\n",
    "    \n",
    "    while right < len(nums):\n",
    "        if nums[left] % 2 == 0:\n",
    "            left += 1\n",
    "            if right < left:\n",
    "                right = left\n",
    "        elif nums[left] % 2 != 0 and nums[right] % 2 == 0:\n",
    "            nums[left], nums[right] = nums[right], nums[left]\n",
    "            left += 1\n",
    "            right += 1\n",
    "            \n",
    "        elif nums[left] % 2 != 0 and nums[right] % 2 != 0:\n",
    "            right += 1\n",
    "    return nums\n",
    "            \n",
    "            \n",
    "    "
   ]
  },
  {
   "cell_type": "code",
   "execution_count": 179,
   "id": "14b43a57",
   "metadata": {},
   "outputs": [
    {
     "data": {
      "text/plain": [
       "[2, 4, 6, 8, 10, 12, 14, 16, 9, 5, 3, 7, 1]"
      ]
     },
     "execution_count": 179,
     "metadata": {},
     "output_type": "execute_result"
    }
   ],
   "source": [
    "nums = [1,2,3,4,5,6,7,8,9,10,12,14,16]\n",
    "main(nums)"
   ]
  },
  {
   "cell_type": "code",
   "execution_count": 181,
   "id": "612a438c",
   "metadata": {},
   "outputs": [],
   "source": [
    "##Передвинуть чётные числа вперёд сохраняяя порядок\n",
    "\n",
    "def main(nums):\n",
    "    j = 0\n",
    "    for i in range(len(nums)):\n",
    "        if nums[i] % 2 == 0:\n",
    "            nums[j], nums[i] = nums[i], nums[j]\n",
    "            j += 1\n",
    "    return nums\n"
   ]
  },
  {
   "cell_type": "code",
   "execution_count": 183,
   "id": "51c51dae",
   "metadata": {},
   "outputs": [
    {
     "data": {
      "text/plain": [
       "[2, 4, 6, 8, 10, 12, 14, 16, 9, 5, 3, 7, 1]"
      ]
     },
     "execution_count": 183,
     "metadata": {},
     "output_type": "execute_result"
    }
   ],
   "source": [
    "nums = [1,2,3,4,5,6,7,8,9,10,12,14,16]\n",
    "main(nums)"
   ]
  },
  {
   "cell_type": "code",
   "execution_count": 207,
   "id": "57e67bc1",
   "metadata": {},
   "outputs": [],
   "source": [
    "## Передвинуть нули в конец\n",
    "def main(nums):\n",
    "    \n",
    "    j = len(nums) - 1\n",
    "    for i in range(len(nums) - 1,-1, -1):\n",
    "        if nums[i] == 0:\n",
    "            nums[i], nums[j] = nums[j], nums[i]\n",
    "            j -= 1\n",
    "    return nums\n",
    "        "
   ]
  },
  {
   "cell_type": "code",
   "execution_count": 221,
   "id": "6e2c3085",
   "metadata": {},
   "outputs": [
    {
     "data": {
      "text/plain": [
       "[1, 1, 1, 1, 1, 1, 0, 0, 0, 0, 0]"
      ]
     },
     "execution_count": 221,
     "metadata": {},
     "output_type": "execute_result"
    }
   ],
   "source": [
    "nums = [0,1,1,0,1,0,1,1,0,0,1]\n",
    "main(nums)"
   ]
  },
  {
   "cell_type": "code",
   "execution_count": null,
   "id": "0b496b60",
   "metadata": {},
   "outputs": [],
   "source": []
  },
  {
   "cell_type": "code",
   "execution_count": null,
   "id": "322c1fcf",
   "metadata": {},
   "outputs": [],
   "source": []
  }
 ],
 "metadata": {
  "kernelspec": {
   "display_name": "Python 3 (ipykernel)",
   "language": "python",
   "name": "python3"
  },
  "language_info": {
   "codemirror_mode": {
    "name": "ipython",
    "version": 3
   },
   "file_extension": ".py",
   "mimetype": "text/x-python",
   "name": "python",
   "nbconvert_exporter": "python",
   "pygments_lexer": "ipython3",
   "version": "3.11.5"
  }
 },
 "nbformat": 4,
 "nbformat_minor": 5
}
